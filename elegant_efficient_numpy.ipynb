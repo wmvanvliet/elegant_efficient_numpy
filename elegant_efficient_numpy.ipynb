{
 "cells": [
  {
   "cell_type": "markdown",
   "metadata": {},
   "source": [
    "# Elegant and efficient NumPy\n",
    "\n",
    "<div style=\"width: 150px; float: right; margin: 10px; margin-top: -10px\"/>\n",
    "<img src=\"images/marijn.jpg\"/>\n",
    "Author: Marijn van Vliet\n",
    "</div>\n",
    "\n",
    "This tutorial is for those who have clobbered together an analysis script or two, using basic Python and NumPy, and want to learn how to write more elegant and efficient analysis code. We will dive into how NumPy works behind the scenes and use this knowledge to our advantage. This tutorial also serves as an introduction to reading the definitive work on this topic: [Guide to NumPy](http://web.mit.edu/dvp/Public/numpybook.pdf) by Travis E. Oliphant, the initial creator of NumPy.\n",
    "\n",
    "Here are the topics discussed in the tutorial. I recommend working through them in order:\n",
    "<ol>\n",
    "    <li><a href=\"introduction.ipynb\">Introduction: How can NumPy be so fast?</a></li>\n",
    "    <li><a href=\"copy_vs_view.ipynb\">Memory management: copy versus view</a></li>\n",
    "</ol>"
   ]
  },
  {
   "cell_type": "markdown",
   "metadata": {},
   "source": [
    "### Help me make this tutorial even better!\n",
    "\n",
    "If you have any smart things to say about the topics that are covered in this tutorial, if you find any mistakes, or have suggestions on what to cover next, please drop me a note by filing an issue on the [GitHub page where this tutorial lives](https://github.com/wmvanvliet/elegant_efficient_numpy)."
   ]
  }
 ],
 "metadata": {
  "kernelspec": {
   "display_name": "Python 3",
   "language": "python",
   "name": "python3"
  },
  "language_info": {
   "codemirror_mode": {
    "name": "ipython",
    "version": 3
   },
   "file_extension": ".py",
   "mimetype": "text/x-python",
   "name": "python",
   "nbconvert_exporter": "python",
   "pygments_lexer": "ipython3",
   "version": "3.6.9"
  }
 },
 "nbformat": 4,
 "nbformat_minor": 2
}
