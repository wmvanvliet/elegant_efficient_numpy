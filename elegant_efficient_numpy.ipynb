{
 "cells": [
  {
   "cell_type": "markdown",
   "metadata": {},
   "source": [
    "# Elegant and efficient NumPy\n",
    "\n",
    "This tutorial is for those who have clobbered together an analysis script or two, using basic Python and NumPy, and want to learn how to write more elegant and efficient analysis code. We will dive into how NumPy works behind the scenes and use this knowledge to our advantage. This tutorial also serves as an introduction to reading the definitive work on this topic: [Guide to NumPy](http://web.mit.edu/dvp/Public/numpybook.pdf) by Travis E. Oliphant, the initial creator of NumPy."
   ]
  },
  {
   "cell_type": "markdown",
   "metadata": {},
   "source": [
    "## Why can NumPy be so fast?\n",
    "Python, being an interpreted programming language, is quite slow. Manipulating large amounts of numbers using Python's build-in lists would be impractically slow for any serious data analysis. Yet, the `numpy` package can be really fast. What gives?\n",
    "\n",
    "How fast can NumPy be? Let's try summing together 10000000 random numbers in a fast language, C, and using NumPy. First, the C version that uses a naive approach of doing this:"
   ]
  },
  {
   "cell_type": "code",
   "execution_count": 252,
   "metadata": {},
   "outputs": [
    {
     "name": "stdout",
     "output_type": "stream",
     "text": [
      "Overwriting random.c\n"
     ]
    }
   ],
   "source": [
    "%%writefile random.c\n",
    "#include <stdlib.h>\n",
    "#include <stdio.h>\n",
    "#define N_ELEMENTS 10000000\n",
    "\n",
    "int main(int argc, char** argv) {\n",
    "    double* a = (double*) malloc(sizeof(double) * N_ELEMENTS);\n",
    "    \n",
    "    int i;\n",
    "    for(i=0; i<N_ELEMENTS; ++i) {\n",
    "        a[i] = (double) rand() / RAND_MAX;\n",
    "    }\n",
    "    \n",
    "    double sum = 0;\n",
    "    for(i=0; i<N_ELEMENTS; ++i) {\n",
    "        sum += a[i];\n",
    "    }\n",
    "\n",
    "    printf(\"%f\", sum);\n",
    "    return 0;\n",
    "}"
   ]
  },
  {
   "cell_type": "markdown",
   "metadata": {},
   "source": [
    "The above snippet of C code creates an array of 10000000 64-bit floating point numbers, chosen randomly between 0 and 1, adds them all together, and displays the result.\n",
    "\n",
    "The cell below will compile the above code using the default C compiler, using maximum optimization settings.\n",
    "On Linux and OSX systems, a compiler should be readily available.\n",
    "On Windows, you may need to install one and modify the code below to use it."
   ]
  },
  {
   "cell_type": "code",
   "execution_count": 253,
   "metadata": {},
   "outputs": [],
   "source": [
    "!gcc random.c -o random -Ofast"
   ]
  },
  {
   "cell_type": "markdown",
   "metadata": {},
   "source": [
    "With the program compiled and ready to run, let's see how long it takes. Here, I'm using the `%%timeit` magic cell function to instruct the Jupyter Notebook to run the program 10 times and report the average running time:"
   ]
  },
  {
   "cell_type": "code",
   "execution_count": 254,
   "metadata": {},
   "outputs": [
    {
     "name": "stdout",
     "output_type": "stream",
     "text": [
      "4999634.344218\n",
      "4999634.344218\n",
      "4999634.344218\n",
      "4999634.344218\n",
      "4999634.344218\n",
      "4999634.344218\n",
      "4999634.344218\n",
      "4999634.344218\n",
      "4999634.344218\n",
      "4999634.344218\n",
      "399 ms ± 50.6 ms per loop (mean ± std. dev. of 10 runs, 1 loop each)\n"
     ]
    }
   ],
   "source": [
    "%%timeit -r 10 -n 1\n",
    "!random"
   ]
  },
  {
   "cell_type": "markdown",
   "metadata": {},
   "source": [
    "### Beating C-code with NumPy\n",
    "<img src=\"images/race.jpg\" style=\"float: right; width: 300px; margin: 10px; margin-top: -10px\"/>\n",
    "On my laptop, the C version took ±387 ms to run. How long did it take on the machine you are currently using?\n",
    "\n",
    "As a test of your current knowledge of NumPy, can you write a little snippet of Python + NumPy code that performs the same operations, but faster than the naive C program above? To recap, your program should:\n",
    "\n",
    " 1. Create an array of 10000000 random values, each value between 0 and 1.\n",
    " 2. Compute and print the sum of the array. It's ok if you get a different result than the C code. They are random numbers after all.\n",
    " \n",
    "We can use the `%%timeit` magic again to determine the running time of your code."
   ]
  },
  {
   "cell_type": "code",
   "execution_count": 255,
   "metadata": {},
   "outputs": [
    {
     "name": "stdout",
     "output_type": "stream",
     "text": [
      "4999995.596966093\n",
      "4999995.596966093\n",
      "4999995.596966093\n",
      "4999995.596966093\n",
      "4999995.596966093\n",
      "4999995.596966093\n",
      "4999995.596966093\n",
      "4999995.596966093\n",
      "4999995.596966093\n",
      "4999995.596966093\n",
      "231 ms ± 15 ms per loop (mean ± std. dev. of 10 runs, 1 loop each)\n"
     ]
    }
   ],
   "source": [
    "%%timeit -r 10 -n 1\n",
    "\n",
    "# Write your Python + NumPy code here and execute the cell to see how long it takes\n",
    "import numpy as np\n",
    "np.random.seed(0)\n",
    "a = np.random.rand(10000000)\n",
    "print(np.sum(a))"
   ]
  },
  {
   "cell_type": "markdown",
   "metadata": {},
   "source": [
    "I hope you found this task easy to accomplish.\n",
    "\n",
    "How did we beat the C version so easily?\n",
    "The NumPy module is written in C, so it must be doing something more clever than the naive C code above.\n",
    "The truth is that behind the scenes, NumPy is using non-naive, highly optimized, C and FORTRAN code.\n",
    "\n",
    "## The man behind the curtain: Basic Linear Algebra Subprograms\n",
    "<img src=\"images/wizard-of-oz.jpg\" style=\"float: right; width: 300px; margin: 10px; margin-top: -10px\"/>\n",
    "\n",
    "[Basic Linear Algebra Subprograms (BLAS)](https://en.wikipedia.org/wiki/Basic_Linear_Algebra_Subprograms) for Fortran was published in 1979 [1] and is a collection algorithms for common mathematical operations that are performed on arrays of numbers.\n",
    "Algorithms such as element-wise sum, matrix multiplication, computing the vector length, etc.\n",
    "\n",
    "The API of that software library was later standardized, and today there are many modern implementations available. These libraries represent over 40 years of optimizing efforts and make use of [specialized CPU instructions for manipulating arrays](https://www.youtube.com/watch?v=Pc8DfEyAxzg&list=PLzLzYGEbdY5lrUYSssHfk5ahwZERojgid).\n",
    "In other words, they are *fast*.\n",
    "\n",
    "Hence, we should strive to push as much of the work as possible into NumPy's heavily optimized innards.\n",
    "Less code for us to write and better performance to boot.\n",
    "However, this does mean we will have to get intimately familiar with its [API](https://docs.scipy.org/doc/numpy/reference/).\n",
    "In the following tutorials, we will tour some of NumPy's nooks and crannies that are not necessarily covered in basic tutorials, but are nontheless worthwhile to know about if you are serious about learning data analysis with Python.\n",
    "\n",
    "[1] C. L. Lawson, R. J. Hanson, D. R. Kincaid, and F. T. Krogh. 1979. Basic Linear Algebra Subprograms for Fortran Usage. ACM Trans. Math. Softw. 5, 3 (September 1979), 308-323. DOI: https://doi.org/10.1145/355841.355847 "
   ]
  },
  {
   "cell_type": "markdown",
   "metadata": {},
   "source": []
  }
 ],
 "metadata": {
  "kernelspec": {
   "display_name": "Python 3",
   "language": "python",
   "name": "python3"
  },
  "language_info": {
   "codemirror_mode": {
    "name": "ipython",
    "version": 3
   },
   "file_extension": ".py",
   "mimetype": "text/x-python",
   "name": "python",
   "nbconvert_exporter": "python",
   "pygments_lexer": "ipython3",
   "version": "3.6.9"
  }
 },
 "nbformat": 4,
 "nbformat_minor": 2
}
