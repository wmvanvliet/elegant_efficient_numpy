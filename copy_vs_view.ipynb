{
 "cells": [
  {
   "cell_type": "markdown",
   "metadata": {},
   "source": [
    "# On copies and views in NumPy\n",
    "\n",
    "For small data sets (< 1MB), modern computers are so amazingly fast that efficiency is hardly worth thinking about.\n",
    "So, I'm assuming you are using bigger data sets that actually take some time to process, even on speedy machines.\n",
    "For example, in the previous section, we allocated data arrays of 800MB and it took a couple of seconds to process it.\n",
    "With that kind of data, speed starts to matter.\n",
    "\n",
    "A big part of data processing speed is memory management.\n",
    "Copying big arrays takes time, so the less of that we do, the faster our code runs.\n",
    "The rules of when NumPy copies data are not trivial and it is worth your while to take a closer look at them."
   ]
  },
  {
   "cell_type": "markdown",
   "metadata": {},
   "source": [
    "## An example: matrix transpose\n",
    "\n",
    "Transposing a matrix means that all rows become columns and all columns become rows. All off-diagonal values change places. Obviously, all this moving data around should take come time, right? Let's see how long NumPy's transpose function takes, by transposing a huge (10000 ✕ 10000) matrix. This time, let's exclude the time it takes to allocate this beast of a matrix and focus solely on the [np.transpose](https://docs.scipy.org/doc/numpy/reference/generated/numpy.transpose.html) function:"
   ]
  },
  {
   "cell_type": "code",
   "execution_count": null,
   "metadata": {},
   "outputs": [],
   "source": [
    "import numpy as np\n",
    "np.random.seed(0)\n",
    "a = np.random.rand(10000, 10000)\n",
    "print('Matrix `a` takes up %d MB' % (a.nbytes / 10**6))"
   ]
  },
  {
   "cell_type": "code",
   "execution_count": null,
   "metadata": {},
   "outputs": [],
   "source": [
    "%%timeit -r 10 -n 1000\n",
    "b = a.transpose()"
   ]
  },
  {
   "cell_type": "markdown",
   "metadata": {},
   "source": [
    "<img src=\"images/magic.jpg\" style=\"width: 200px; float: right; margin: 10px; margin-top: -10px\"/>\n",
    "\n",
    "On my laptop, it takes mere nanoseconds to transpose 800 MB of data.\n",
    "NumPy somehow avoided copying the data.\n",
    "The transpose operation is computationally so cheap that is also available through the `.T` property (it is conventially not done to expose methods that are potentially computationally expensive as properties).\n",
    "\n",
    "What black magic is going on here?\n",
    "To answer that, we must dive a little into the innards of NumPy arrays.\n",
    "\n",
    "## The `ndarray` data structure"
   ]
  }
 ],
 "metadata": {
  "kernelspec": {
   "display_name": "Python 3",
   "language": "python",
   "name": "python3"
  },
  "language_info": {
   "codemirror_mode": {
    "name": "ipython",
    "version": 3
   },
   "file_extension": ".py",
   "mimetype": "text/x-python",
   "name": "python",
   "nbconvert_exporter": "python",
   "pygments_lexer": "ipython3",
   "version": "3.6.9"
  }
 },
 "nbformat": 4,
 "nbformat_minor": 2
}
